{
 "cells": [
  {
   "cell_type": "code",
   "execution_count": 177,
   "metadata": {
    "collapsed": true
   },
   "outputs": [],
   "source": [
    "import numpy as np\n",
    "import matplotlib.pyplot as plt\n",
    "import pandas as pd\n",
    "import seaborn as sns"
   ]
  },
  {
   "cell_type": "code",
   "execution_count": 178,
   "metadata": {
    "collapsed": true
   },
   "outputs": [],
   "source": [
    "def regpol(w,z,n): \n",
    "    \n",
    "       \n",
    "    i = 0\n",
    "    \n",
    "    d = np.zeros([len(w),n+1])\n",
    "    \n",
    "    s = np.zeros(n+1)\n",
    "    \n",
    "    while i < n + 1:\n",
    "        \n",
    "        d[:,i] = pow(w.T,i)\n",
    "        \n",
    "        i += 1\n",
    "        \n",
    "    Q = np.matrix(d)\n",
    "    \n",
    "    H = np.dot(Q.T,Q)#H = (Q.T).dot(Q)\n",
    "    \n",
    "    H1 = H.I\n",
    "    \n",
    "    U = np.dot(Q.T,z)#U = (Q.T).dot(y)\n",
    "    \n",
    "    R = np.dot(H1,U.T)#R = H1.dot(U.T)\n",
    "    \n",
    "    R = R.reshape([1,n+1])\n",
    "    \n",
    "    k = 0\n",
    "    \n",
    "    while k < n + 1:\n",
    "        \n",
    "        s[k] = R[0,n - k]\n",
    "        \n",
    "        k += 1\n",
    "    \n",
    "    \n",
    "    return s\n",
    "      "
   ]
  },
  {
   "cell_type": "code",
   "execution_count": 179,
   "metadata": {
    "collapsed": true
   },
   "outputs": [],
   "source": [
    "def erro_ordem(a,b,p):\n",
    "    \n",
    "    i = 0\n",
    "    \n",
    "    bfit = np.zeros(8)\n",
    "    \n",
    "    bresid = np.zeros(8)\n",
    "    \n",
    "    while i < len(p):\n",
    "        \n",
    "        bfit = bfit + p[i]*pow(a,len(p)-i-1)\n",
    "              \n",
    "        i += 1\n",
    "        \n",
    "    bresid = b - bfit\n",
    "    \n",
    "    SQresid = sum(pow(bresid,2))\n",
    "    \n",
    "    return SQresid"
   ]
  },
  {
   "cell_type": "code",
   "execution_count": 180,
   "metadata": {
    "collapsed": true
   },
   "outputs": [],
   "source": [
    "dados = pd.read_csv('DadosTeste.csv')\n",
    "frame = pd.DataFrame(dados)"
   ]
  },
  {
   "cell_type": "code",
   "execution_count": 186,
   "metadata": {},
   "outputs": [
    {
     "data": {
      "image/png": "[encoded data removed]",
      "text/plain": [
       "<matplotlib.figure.Figure at 0x7f8e49244690>"
      ]
     },
     "metadata": {},
     "output_type": "display_data"
    }
   ],
   "source": [
    "p = regpol(frame['serum cholestoral in mg/dl'],frame['resting blood pressure'],1)\n",
    "plt.scatter(frame['serum cholestoral in mg/dl'], frame['resting blood pressure'])\n",
    "plt.plot(frame['serum cholestoral in mg/dl'],np.polyval(p,frame['serum cholestoral in mg/dl']),'g-')\n",
    "plt.axis([0,600,0,400])\n",
    "plt.show()"
   ]
  }
 ],
 "metadata": {
  "kernelspec": {
   "display_name": "Python 2",
   "language": "python",
   "name": "python2"
  },
  "language_info": {
   "codemirror_mode": {
    "name": "ipython",
    "version": 2
   },
   "file_extension": ".py",
   "mimetype": "text/x-python",
   "name": "python",
   "nbconvert_exporter": "python",
   "pygments_lexer": "ipython2",
   "version": "2.7.14"
  }
 },
 "nbformat": 4,
 "nbformat_minor": 2
}
